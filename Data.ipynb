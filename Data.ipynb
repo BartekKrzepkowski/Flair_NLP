{
 "cells": [
  {
   "cell_type": "code",
   "execution_count": 1,
   "metadata": {},
   "outputs": [],
   "source": [
    "import torch"
   ]
  },
  {
   "cell_type": "markdown",
   "metadata": {},
   "source": [
    "There are two types of objects central to this library – Sentence and Token objects\n",
    "\n",
    "A Sentence holds a textual sentence and is essentially a list of Tokens"
   ]
  },
  {
   "cell_type": "code",
   "execution_count": 2,
   "metadata": {},
   "outputs": [
    {
     "data": {
      "text/plain": [
       "Sentence: \"Ala has a cat.\" - 4 Tokens"
      ]
     },
     "execution_count": 2,
     "metadata": {},
     "output_type": "execute_result"
    }
   ],
   "source": [
    "from flair.data import Sentence\n",
    "\n",
    "sentence_string = \"Ala has a cat.\"\n",
    "sentence = Sentence(sentence_string)\n",
    "\n",
    "sentence"
   ]
  },
  {
   "cell_type": "code",
   "execution_count": 3,
   "metadata": {},
   "outputs": [
    {
     "name": "stdout",
     "output_type": "stream",
     "text": [
      "[]\n",
      "tensor([])\n"
     ]
    }
   ],
   "source": [
    "# no assigned labels\n",
    "print(sentence.labels)\n",
    "# no assigned embedding to sentence\n",
    "print(sentence.embedding)\n",
    "\n",
    "#Note that the embedding is in pytorch-tensor type"
   ]
  },
  {
   "cell_type": "code",
   "execution_count": 4,
   "metadata": {},
   "outputs": [
    {
     "name": "stdout",
     "output_type": "stream",
     "text": [
      "[Token: 1 Ala, Token: 2 has, Token: 3 a, Token: 4 cat.]\n",
      "<class 'flair.data.Token'>\n",
      "tensor([])\n",
      "tensor([])\n",
      "tensor([])\n",
      "tensor([])\n"
     ]
    }
   ],
   "source": [
    "print(sentence.tokens)\n",
    "# tokenized sentence with each token represented via Token class\n",
    "print(type(sentence.tokens[0]))\n",
    "\n",
    "for token in sentence:\n",
    "    print(token.embedding)\n",
    "    \n",
    "# also, no assigned embeddings to tokens"
   ]
  },
  {
   "cell_type": "markdown",
   "metadata": {},
   "source": [
    "## Word Embeddings"
   ]
  },
  {
   "cell_type": "markdown",
   "metadata": {},
   "source": [
    "Flair provides well known word embeddings like glove, word2vec, or fasttext, together with newest embeddings based on transformer architecture.<br>\n",
    "Furthermore, they can be stacked together, as well as with the signature embedding provided within the Flair library."
   ]
  },
  {
   "cell_type": "code",
   "execution_count": 5,
   "metadata": {},
   "outputs": [
    {
     "name": "stderr",
     "output_type": "stream",
     "text": [
      "/usr/local/lib/python3.6/dist-packages/smart_open/smart_open_lib.py:398: UserWarning: This function is deprecated, use smart_open.open instead. See the migration notes for details: https://github.com/RaRe-Technologies/smart_open/blob/master/README.rst#migrating-to-the-new-open-function\n",
      "  'See the migration notes for details: %s' % _MIGRATION_NOTES_URL\n",
      "/usr/local/lib/python3.6/dist-packages/sklearn/utils/linear_assignment_.py:21: DeprecationWarning: The linear_assignment_ module is deprecated in 0.21 and will be removed from 0.23. Use scipy.optimize.linear_sum_assignment instead.\n",
      "  DeprecationWarning)\n"
     ]
    }
   ],
   "source": [
    "# example\n",
    "from flair.embeddings import StackedEmbeddings\n",
    "from flair.embeddings import FlairEmbeddings\n",
    "from flair.embeddings import ELMoEmbeddings\n",
    "from flair.embeddings import WordEmbeddings\n",
    "\n",
    "\n",
    "\n",
    "stacked_embeddings1 = StackedEmbeddings(\n",
    "    embeddings = [\n",
    "        WordEmbeddings('glove'),\n",
    "        FlairEmbeddings('news-forward-fast'), \n",
    "        FlairEmbeddings('news-backward-fast')\n",
    "    ]\n",
    ")\n",
    "\n",
    "\n",
    "\n",
    "stacked_embeddings2 = StackedEmbeddings(\n",
    "    embeddings = [\n",
    "        ELMoEmbeddings(),\n",
    "        FlairEmbeddings('news-forward-fast'), \n",
    "        FlairEmbeddings('news-backward-fast')\n",
    "    ]\n",
    ")\n",
    "\n",
    "# stacked embeddings are pretty self-explanatory, but just in case - we concatenate them together to get richer words representation"
   ]
  },
  {
   "cell_type": "code",
   "execution_count": 6,
   "metadata": {},
   "outputs": [
    {
     "data": {
      "text/plain": [
       "[WordEmbeddings('glove'), FlairEmbeddings(\n",
       "   (lm): LanguageModel(\n",
       "     (drop): Dropout(p=0.25, inplace=False)\n",
       "     (encoder): Embedding(275, 100)\n",
       "     (rnn): LSTM(100, 1024)\n",
       "     (decoder): Linear(in_features=1024, out_features=275, bias=True)\n",
       "   )\n",
       " ), FlairEmbeddings(\n",
       "   (lm): LanguageModel(\n",
       "     (drop): Dropout(p=0.25, inplace=False)\n",
       "     (encoder): Embedding(275, 100)\n",
       "     (rnn): LSTM(100, 1024)\n",
       "     (decoder): Linear(in_features=1024, out_features=275, bias=True)\n",
       "   )\n",
       " )]"
      ]
     },
     "execution_count": 6,
     "metadata": {},
     "output_type": "execute_result"
    }
   ],
   "source": [
    "# stacked layer\n",
    "stacked_embeddings1.embeddings"
   ]
  },
  {
   "cell_type": "code",
   "execution_count": 7,
   "metadata": {},
   "outputs": [],
   "source": [
    "sentence_string = \"Ala has a cat.\"\n",
    "sentence = Sentence(sentence_string)"
   ]
  },
  {
   "cell_type": "code",
   "execution_count": 8,
   "metadata": {},
   "outputs": [
    {
     "name": "stdout",
     "output_type": "stream",
     "text": [
      "tensor([-1.1226e+00, -1.1322e+00, -4.3761e-01,  ..., -2.3225e-08,\n",
      "         1.3534e-05,  2.1131e-02])\n",
      "<class 'torch.Tensor'>\n",
      "torch.Size([2148]) \n",
      "\n",
      "tensor([ 9.3736e-02,  5.6152e-01,  4.8364e-01,  ..., -7.1311e-08,\n",
      "         3.2900e-05,  1.3822e-03])\n",
      "<class 'torch.Tensor'>\n",
      "torch.Size([2148]) \n",
      "\n",
      "tensor([-2.7086e-01,  4.4006e-02, -2.0260e-02,  ..., -1.5215e-08,\n",
      "         1.4911e-04,  1.0475e-01])\n",
      "<class 'torch.Tensor'>\n",
      "torch.Size([2148]) \n",
      "\n",
      "tensor([ 0.0000e+00,  0.0000e+00,  0.0000e+00,  ..., -2.0251e-08,\n",
      "        -7.9864e-04,  2.4168e-02])\n",
      "<class 'torch.Tensor'>\n",
      "torch.Size([2148]) \n",
      "\n"
     ]
    }
   ],
   "source": [
    "stacked_embeddings1.embed(sentence)\n",
    "for token in sentence:\n",
    "    print(token.embedding)\n",
    "    print(type(token.embedding))\n",
    "    print(token.embedding.shape, \"\\n\")\n",
    "    \n",
    "# assigned embeddings to tokens\n",
    "# stacked_size = elmo_size(1024) + 2*flair_size(512)"
   ]
  },
  {
   "cell_type": "markdown",
   "metadata": {},
   "source": [
    "## Phrase Embeddings"
   ]
  },
  {
   "cell_type": "markdown",
   "metadata": {},
   "source": [
    "We can create phrase embedding for given sentence by some arhitmetic operation(like calculate the mean) on obtained word embeddings,"
   ]
  },
  {
   "cell_type": "code",
   "execution_count": 9,
   "metadata": {},
   "outputs": [
    {
     "name": "stderr",
     "output_type": "stream",
     "text": [
      "/usr/local/lib/python3.6/dist-packages/smart_open/smart_open_lib.py:398: UserWarning: This function is deprecated, use smart_open.open instead. See the migration notes for details: https://github.com/RaRe-Technologies/smart_open/blob/master/README.rst#migrating-to-the-new-open-function\n",
      "  'See the migration notes for details: %s' % _MIGRATION_NOTES_URL\n"
     ]
    },
    {
     "data": {
      "text/plain": [
       "tensor([-3.2493e-01, -1.3167e-01,  6.4425e-03,  ..., -3.2500e-08,\n",
       "        -1.5077e-04,  3.7857e-02])"
      ]
     },
     "execution_count": 9,
     "metadata": {},
     "output_type": "execute_result"
    }
   ],
   "source": [
    "stacked_embeddings1 = StackedEmbeddings(\n",
    "    embeddings = [\n",
    "        WordEmbeddings('glove'),\n",
    "        FlairEmbeddings('news-forward-fast'), \n",
    "        FlairEmbeddings('news-backward-fast')\n",
    "    ]\n",
    ")\n",
    "\n",
    "stacked_embeddings1.embed(sentence)\n",
    "\n",
    "torch.cat([el.embedding.unsqueeze(0) for el in sentence.tokens]).mean(dim=0)"
   ]
  },
  {
   "cell_type": "markdown",
   "metadata": {},
   "source": [
    "or employ Document Embedding class in flair.embeddings module."
   ]
  },
  {
   "cell_type": "code",
   "execution_count": 10,
   "metadata": {},
   "outputs": [],
   "source": [
    "from flair.embeddings import DocumentLSTMEmbeddings\n",
    "# or\n",
    "from flair.embeddings import DocumentMeanEmbeddings\n",
    "# or\n",
    "from flair.embeddings import DocumentPoolEmbeddings\n",
    "# or\n",
    "from flair.embeddings import DocumentRNNEmbeddings"
   ]
  },
  {
   "cell_type": "code",
   "execution_count": 11,
   "metadata": {},
   "outputs": [],
   "source": [
    "# example\n",
    "document_embeddings = DocumentPoolEmbeddings(\n",
    "    embeddings = [\n",
    "        WordEmbeddings('glove'),\n",
    "        FlairEmbeddings('news-forward-fast'), \n",
    "        FlairEmbeddings('news-backward-fast')\n",
    "    ]\n",
    ")"
   ]
  },
  {
   "cell_type": "code",
   "execution_count": 12,
   "metadata": {},
   "outputs": [
    {
     "data": {
      "text/plain": [
       "tensor([-3.2493e-01, -1.3167e-01,  6.4425e-03,  ..., -3.2500e-08,\n",
       "        -1.5077e-04,  3.7857e-02], grad_fn=<CatBackward>)"
      ]
     },
     "execution_count": 12,
     "metadata": {},
     "output_type": "execute_result"
    }
   ],
   "source": [
    "document_embeddings.embed(sentence)\n",
    "sentence.embedding\n",
    "# assigned embedding to sentence"
   ]
  },
  {
   "cell_type": "code",
   "execution_count": null,
   "metadata": {},
   "outputs": [],
   "source": []
  }
 ],
 "metadata": {
  "kernelspec": {
   "display_name": "Python 3",
   "language": "python",
   "name": "python3"
  },
  "language_info": {
   "codemirror_mode": {
    "name": "ipython",
    "version": 3
   },
   "file_extension": ".py",
   "mimetype": "text/x-python",
   "name": "python",
   "nbconvert_exporter": "python",
   "pygments_lexer": "ipython3",
   "version": "3.6.8"
  }
 },
 "nbformat": 4,
 "nbformat_minor": 4
}
