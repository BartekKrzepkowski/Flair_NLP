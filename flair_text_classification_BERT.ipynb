{
 "cells": [
  {
   "cell_type": "code",
   "execution_count": 2,
   "metadata": {
    "collapsed": true
   },
   "outputs": [
    {
     "name": "stdout",
     "output_type": "stream",
     "text": [
      "Collecting flair\n",
      "\u001b[?25l  Downloading https://files.pythonhosted.org/packages/4e/3a/2e777f65a71c1eaa259df44c44e39d7071ba8c7780a1564316a38bf86449/flair-0.4.2-py3-none-any.whl (136kB)\n",
      "\u001b[K     |████████████████████████████████| 143kB 2.4MB/s eta 0:00:01\n",
      "\u001b[?25hRequirement already satisfied: torch>=1.0.0 in /opt/conda/lib/python3.6/site-packages (from flair) (1.1.0)\n",
      "Collecting deprecated>=1.2.4 (from flair)\n",
      "  Downloading https://files.pythonhosted.org/packages/88/0e/9d5a1a8cd7130c49334cce7b8167ceda63d6a329c8ea65b626116bc9e9e6/Deprecated-1.2.6-py2.py3-none-any.whl\n",
      "Requirement already satisfied: pytorch-pretrained-bert>=0.6.1 in /opt/conda/lib/python3.6/site-packages (from flair) (0.6.2)\n",
      "Requirement already satisfied: sklearn in /opt/conda/lib/python3.6/site-packages (from flair) (0.0)\n",
      "Requirement already satisfied: gensim>=3.4.0 in /opt/conda/lib/python3.6/site-packages (from flair) (3.8.0)\n",
      "Collecting sqlitedict>=1.6.0 (from flair)\n",
      "  Downloading https://files.pythonhosted.org/packages/0f/1c/c757b93147a219cf1e25cef7e1ad9b595b7f802159493c45ce116521caff/sqlitedict-1.6.0.tar.gz\n",
      "Requirement already satisfied: regex in /opt/conda/lib/python3.6/site-packages (from flair) (2019.6.8)\n",
      "Requirement already satisfied: urllib3<1.25,>=1.20 in /opt/conda/lib/python3.6/site-packages (from flair) (1.24.2)\n",
      "Requirement already satisfied: mpld3==0.3 in /opt/conda/lib/python3.6/site-packages (from flair) (0.3)\n",
      "Requirement already satisfied: tabulate in /opt/conda/lib/python3.6/site-packages/tabulate-0.8.3-py3.6.egg (from flair) (0.8.3)\n",
      "Requirement already satisfied: hyperopt>=0.1.1 in /opt/conda/lib/python3.6/site-packages (from flair) (0.1.2)\n",
      "Collecting bpemb>=0.2.9 (from flair)\n",
      "  Downloading https://files.pythonhosted.org/packages/bc/70/468a9652095b370f797ed37ff77e742b11565c6fd79eaeca5f2e50b164a7/bpemb-0.3.0-py3-none-any.whl\n",
      "Requirement already satisfied: pytest>=3.6.4 in /opt/conda/lib/python3.6/site-packages (from flair) (5.0.1)\n",
      "Collecting segtok>=1.5.7 (from flair)\n",
      "  Downloading https://files.pythonhosted.org/packages/1d/59/6ed78856ab99d2da04084b59e7da797972baa0efecb71546b16d48e49d9b/segtok-1.5.7.tar.gz\n",
      "Requirement already satisfied: tqdm>=4.26.0 in /opt/conda/lib/python3.6/site-packages (from flair) (4.32.1)\n",
      "Requirement already satisfied: matplotlib>=2.2.3 in /opt/conda/lib/python3.6/site-packages (from flair) (3.0.3)\n",
      "Requirement already satisfied: numpy in /opt/conda/lib/python3.6/site-packages (from torch>=1.0.0->flair) (1.16.4)\n",
      "Requirement already satisfied: wrapt<2,>=1.10 in /opt/conda/lib/python3.6/site-packages (from deprecated>=1.2.4->flair) (1.11.2)\n",
      "Requirement already satisfied: boto3 in /opt/conda/lib/python3.6/site-packages (from pytorch-pretrained-bert>=0.6.1->flair) (1.9.194)\n",
      "Requirement already satisfied: requests in /opt/conda/lib/python3.6/site-packages (from pytorch-pretrained-bert>=0.6.1->flair) (2.22.0)\n",
      "Requirement already satisfied: scikit-learn in /opt/conda/lib/python3.6/site-packages (from sklearn->flair) (0.21.2)\n",
      "Requirement already satisfied: six>=1.5.0 in /opt/conda/lib/python3.6/site-packages (from gensim>=3.4.0->flair) (1.12.0)\n",
      "Requirement already satisfied: scipy>=0.18.1 in /opt/conda/lib/python3.6/site-packages (from gensim>=3.4.0->flair) (1.2.1)\n",
      "Requirement already satisfied: smart-open>=1.7.0 in /opt/conda/lib/python3.6/site-packages (from gensim>=3.4.0->flair) (1.8.4)\n",
      "Requirement already satisfied: networkx==2.2 in /opt/conda/lib/python3.6/site-packages (from hyperopt>=0.1.1->flair) (2.2)\n",
      "Requirement already satisfied: future in /opt/conda/lib/python3.6/site-packages (from hyperopt>=0.1.1->flair) (0.17.1)\n",
      "Requirement already satisfied: pymongo in /opt/conda/lib/python3.6/site-packages (from hyperopt>=0.1.1->flair) (3.8.0)\n",
      "Requirement already satisfied: sentencepiece in /opt/conda/lib/python3.6/site-packages (from bpemb>=0.2.9->flair) (0.1.82)\n",
      "Requirement already satisfied: py>=1.5.0 in /opt/conda/lib/python3.6/site-packages (from pytest>=3.6.4->flair) (1.8.0)\n",
      "Requirement already satisfied: packaging in /opt/conda/lib/python3.6/site-packages (from pytest>=3.6.4->flair) (19.0)\n",
      "Requirement already satisfied: attrs>=17.4.0 in /opt/conda/lib/python3.6/site-packages (from pytest>=3.6.4->flair) (19.1.0)\n",
      "Requirement already satisfied: more-itertools>=4.0.0 in /opt/conda/lib/python3.6/site-packages (from pytest>=3.6.4->flair) (7.0.0)\n",
      "Requirement already satisfied: atomicwrites>=1.0 in /opt/conda/lib/python3.6/site-packages (from pytest>=3.6.4->flair) (1.3.0)\n",
      "Requirement already satisfied: pluggy<1.0,>=0.12 in /opt/conda/lib/python3.6/site-packages (from pytest>=3.6.4->flair) (0.12.0)\n",
      "Requirement already satisfied: importlib-metadata>=0.12 in /opt/conda/lib/python3.6/site-packages (from pytest>=3.6.4->flair) (0.17)\n",
      "Requirement already satisfied: wcwidth in /opt/conda/lib/python3.6/site-packages (from pytest>=3.6.4->flair) (0.1.7)\n",
      "Requirement already satisfied: cycler>=0.10 in /opt/conda/lib/python3.6/site-packages (from matplotlib>=2.2.3->flair) (0.10.0)\n",
      "Requirement already satisfied: kiwisolver>=1.0.1 in /opt/conda/lib/python3.6/site-packages (from matplotlib>=2.2.3->flair) (1.1.0)\n",
      "Requirement already satisfied: pyparsing!=2.0.4,!=2.1.2,!=2.1.6,>=2.0.1 in /opt/conda/lib/python3.6/site-packages (from matplotlib>=2.2.3->flair) (2.4.0)\n",
      "Requirement already satisfied: python-dateutil>=2.1 in /opt/conda/lib/python3.6/site-packages (from matplotlib>=2.2.3->flair) (2.8.0)\n",
      "Requirement already satisfied: s3transfer<0.3.0,>=0.2.0 in /opt/conda/lib/python3.6/site-packages (from boto3->pytorch-pretrained-bert>=0.6.1->flair) (0.2.1)\n",
      "Requirement already satisfied: botocore<1.13.0,>=1.12.194 in /opt/conda/lib/python3.6/site-packages (from boto3->pytorch-pretrained-bert>=0.6.1->flair) (1.12.194)\n",
      "Requirement already satisfied: jmespath<1.0.0,>=0.7.1 in /opt/conda/lib/python3.6/site-packages (from boto3->pytorch-pretrained-bert>=0.6.1->flair) (0.9.4)\n",
      "Requirement already satisfied: certifi>=2017.4.17 in /opt/conda/lib/python3.6/site-packages (from requests->pytorch-pretrained-bert>=0.6.1->flair) (2019.6.16)\n",
      "Requirement already satisfied: idna<2.9,>=2.5 in /opt/conda/lib/python3.6/site-packages (from requests->pytorch-pretrained-bert>=0.6.1->flair) (2.8)\n",
      "Requirement already satisfied: chardet<3.1.0,>=3.0.2 in /opt/conda/lib/python3.6/site-packages (from requests->pytorch-pretrained-bert>=0.6.1->flair) (3.0.4)\n",
      "Requirement already satisfied: joblib>=0.11 in /opt/conda/lib/python3.6/site-packages (from scikit-learn->sklearn->flair) (0.13.2)\n",
      "Requirement already satisfied: boto>=2.32 in /opt/conda/lib/python3.6/site-packages (from smart-open>=1.7.0->gensim>=3.4.0->flair) (2.49.0)\n",
      "Requirement already satisfied: decorator>=4.3.0 in /opt/conda/lib/python3.6/site-packages (from networkx==2.2->hyperopt>=0.1.1->flair) (4.4.0)\n",
      "Requirement already satisfied: zipp>=0.5 in /opt/conda/lib/python3.6/site-packages (from importlib-metadata>=0.12->pytest>=3.6.4->flair) (0.5.1)\n",
      "Requirement already satisfied: setuptools in /opt/conda/lib/python3.6/site-packages (from kiwisolver>=1.0.1->matplotlib>=2.2.3->flair) (41.0.1)\n",
      "Requirement already satisfied: docutils<0.15,>=0.10 in /opt/conda/lib/python3.6/site-packages (from botocore<1.13.0,>=1.12.194->boto3->pytorch-pretrained-bert>=0.6.1->flair) (0.14)\n",
      "Building wheels for collected packages: sqlitedict, segtok\n",
      "  Building wheel for sqlitedict (setup.py) ... \u001b[?25ldone\n",
      "\u001b[?25h  Created wheel for sqlitedict: filename=sqlitedict-1.6.0-cp36-none-any.whl size=14689 sha256=da937aa60da2c0f510fb9f4ea352abea88f283279eacea07ebc1699b46f88010\n",
      "  Stored in directory: /tmp/.cache/pip/wheels/bd/57/d3/907c3ee02d35e66f674ad0106e61f06eeeb98f6ee66a6cc3fe\n",
      "  Building wheel for segtok (setup.py) ... \u001b[?25ldone\n",
      "\u001b[?25h  Created wheel for segtok: filename=segtok-1.5.7-cp36-none-any.whl size=23257 sha256=ee1ef7910c53fdde2704765a70435369a0154c1450bfad07842eb66cf01fff0f\n",
      "  Stored in directory: /tmp/.cache/pip/wheels/15/ee/a8/6112173f1386d33eebedb3f73429cfa41a4c3084556bcee254\n",
      "Successfully built sqlitedict segtok\n",
      "Installing collected packages: deprecated, sqlitedict, bpemb, segtok, flair\n",
      "Successfully installed bpemb-0.3.0 deprecated-1.2.6 flair-0.4.2 segtok-1.5.7 sqlitedict-1.6.0\n"
     ]
    }
   ],
   "source": [
    "!pip3 install flair"
   ]
  },
  {
   "cell_type": "code",
   "execution_count": 2,
   "metadata": {
    "_cell_guid": "b1076dfc-b9ad-4769-8c92-a6c4dae69d19",
    "_uuid": "8f2839f25d086af736a60e9eeb907d3b93b6e0e5"
   },
   "outputs": [
    {
     "data": {
      "text/plain": [
       "False"
      ]
     },
     "execution_count": 2,
     "metadata": {},
     "output_type": "execute_result"
    }
   ],
   "source": [
    "import os\n",
    "import numpy as np\n",
    "import pandas as pd\n",
    "\n",
    "%matplotlib inline\n",
    "\n",
    "import torch\n",
    "torch.cuda.is_available()"
   ]
  },
  {
   "cell_type": "markdown",
   "metadata": {},
   "source": [
    "> ## Create a Corpus"
   ]
  },
  {
   "cell_type": "markdown",
   "metadata": {},
   "source": [
    "### 1) Load from simple CSV file"
   ]
  },
  {
   "cell_type": "code",
   "execution_count": 3,
   "metadata": {
    "_cell_guid": "79c7e3d0-c299-4dcb-8224-4455121ee9b0",
    "_uuid": "d629ff2d2480ee46fbb7e2d37f6b5fab8052498a"
   },
   "outputs": [
    {
     "ename": "ImportError",
     "evalue": "cannot import name 'CSVClassificationCorpus'",
     "output_type": "error",
     "traceback": [
      "\u001b[0;31m---------------------------------------------------------------------------\u001b[0m",
      "\u001b[0;31mImportError\u001b[0m                               Traceback (most recent call last)",
      "\u001b[0;32m<ipython-input-3-a9b8373f4aba>\u001b[0m in \u001b[0;36m<module>\u001b[0;34m\u001b[0m\n\u001b[0;32m----> 1\u001b[0;31m \u001b[0;32mfrom\u001b[0m \u001b[0mflair\u001b[0m\u001b[0;34m.\u001b[0m\u001b[0mdatasets\u001b[0m \u001b[0;32mimport\u001b[0m \u001b[0mCSVClassificationCorpus\u001b[0m\u001b[0;34m\u001b[0m\u001b[0m\n\u001b[0m",
      "\u001b[0;31mImportError\u001b[0m: cannot import name 'CSVClassificationCorpus'"
     ]
    }
   ],
   "source": [
    "from flair.datasets import CSVClassificationCorpus"
   ]
  },
  {
   "cell_type": "markdown",
   "metadata": {},
   "source": [
    "Great development.."
   ]
  },
  {
   "cell_type": "markdown",
   "metadata": {},
   "source": [
    "### 2) FastText Format"
   ]
  },
  {
   "cell_type": "code",
   "execution_count": 4,
   "metadata": {},
   "outputs": [],
   "source": [
    "from flair.data import Corpus\n",
    "from flair.datasets import ClassificationCorpus"
   ]
  },
  {
   "cell_type": "code",
   "execution_count": 5,
   "metadata": {},
   "outputs": [],
   "source": [
    "FILE_PATH = \"../input/bbctext/bbc-text.csv\"\n",
    "DATASET_FOLDER_PATH = \"splitted_data\"\n",
    "\n",
    "column_name = {\n",
    "    \"text\": \"text\",\n",
    "    \"label\": \"category\"\n",
    "}"
   ]
  },
  {
   "cell_type": "markdown",
   "metadata": {},
   "source": [
    "# file format\n",
    "__label__<label_1> <text>\n",
    "__label__<label_1> __label__<label_2> <text>"
   ]
  },
  {
   "cell_type": "code",
   "execution_count": 6,
   "metadata": {},
   "outputs": [
    {
     "data": {
      "image/png": "[encoded data removed]",
      "text/plain": [
       "<Figure size 720x720 with 1 Axes>"
      ]
     },
     "metadata": {
      "needs_background": "light"
     },
     "output_type": "display_data"
    }
   ],
   "source": [
    "data_df = pd.read_csv(FILE_PATH).sample(frac=1)\n",
    "data_df[column_name[\"label\"]] = '__label__' + data_df[column_name[\"label\"]].astype(str)\n",
    "\n",
    "# number of chars\n",
    "data_df[column_name[\"text\"]].str.len().plot(kind=\"hist\", title=\"line lenght distribution\", grid=True, figsize=(10,10), bins=50);"
   ]
  },
  {
   "cell_type": "code",
   "execution_count": 7,
   "metadata": {},
   "outputs": [
    {
     "data": {
      "image/png": "[encoded data removed]",
      "text/plain": [
       "<Figure size 720x720 with 1 Axes>"
      ]
     },
     "metadata": {
      "needs_background": "light"
     },
     "output_type": "display_data"
    }
   ],
   "source": [
    "import re\n",
    "from string import digits, punctuation\n",
    "\n",
    "def clear_text(text, is_all_lower=True):\n",
    "    punct = re.sub(r'[\\.,!?&\\-]', '', punctuation)\n",
    "    punctuation_table = str.maketrans({key: \"#\" for key in punct})\n",
    "    for char in [\"\\\"\", \"\\'\"]:\n",
    "        del punctuation_table[ord(char)]\n",
    "    \n",
    "    review_cleaned = text.apply(lambda x: re.sub(r'[^\\x00-\\x7F]', ' ', x))\n",
    "    review_cleaned = review_cleaned.apply(lambda x: re.sub(r'[0-9]', '9', x))\n",
    "    review_cleaned = review_cleaned.apply(lambda x: x.translate(punctuation_table))\n",
    "    review_cleaned = review_cleaned.apply(lambda x: re.sub(r' +', ' ', x))\n",
    "    review_cleaned = review_cleaned.apply(lambda x: re.sub(r' (?=[\\.,!?&\\-])','', x))\n",
    "    \n",
    "    if is_all_lower:\n",
    "        review_cleaned = review_cleaned.str.lower()\n",
    "        \n",
    "    return review_cleaned\n",
    "\n",
    "data_df[column_name[\"text\"]] = clear_text(data_df[\"text\"])\n",
    "data_df[column_name[\"text\"]] = data_df[column_name[\"text\"]].apply(lambda x: x[:500])\n",
    "\n",
    "# number of chars\n",
    "data_df[column_name[\"text\"]].str.len().plot(kind=\"hist\", title=\"line lenght distribution\", grid=True, figsize=(10,10), bins=50);"
   ]
  },
  {
   "cell_type": "code",
   "execution_count": 8,
   "metadata": {},
   "outputs": [],
   "source": [
    "if not os.path.exists(DATASET_FOLDER_PATH):\n",
    "    os.makedirs(DATASET_FOLDER_PATH)\n",
    "data_df.iloc[0: int(len(data_df)*0.8)].to_csv(os.path.join(DATASET_FOLDER_PATH, 'train.csv'), sep='\\t', index = False, header = False)\n",
    "data_df.iloc[int(len(data_df)*0.8): int(len(data_df)*0.9)].to_csv(os.path.join(DATASET_FOLDER_PATH, 'dev.csv'), sep='\\t', index = False, header = False)\n",
    "data_df.iloc[int(len(data_df)*0.9): ].to_csv(os.path.join(DATASET_FOLDER_PATH, 'test.csv'), sep='\\t', index = False, header = False);"
   ]
  },
  {
   "cell_type": "code",
   "execution_count": 9,
   "metadata": {},
   "outputs": [
    {
     "name": "stdout",
     "output_type": "stream",
     "text": [
      "2019-08-10 17:59:07,502 Reading data from splitted_data\n",
      "2019-08-10 17:59:07,508 Train: splitted_data/train.csv\n",
      "2019-08-10 17:59:07,512 Dev: splitted_data/dev.csv\n",
      "2019-08-10 17:59:07,513 Test: splitted_data/test.csv\n"
     ]
    }
   ],
   "source": [
    "corpus = ClassificationCorpus(DATASET_FOLDER_PATH)"
   ]
  },
  {
   "cell_type": "markdown",
   "metadata": {},
   "source": [
    "Each line in a corpus is converted to a Sentence object annotated with the labels."
   ]
  },
  {
   "cell_type": "markdown",
   "metadata": {},
   "source": [
    "## Check distribution"
   ]
  },
  {
   "cell_type": "code",
   "execution_count": 10,
   "metadata": {},
   "outputs": [
    {
     "data": {
      "text/plain": [
       "__label__sport            407\n",
       "__label__business         402\n",
       "__label__politics         341\n",
       "__label__tech             325\n",
       "__label__entertainment    305\n",
       "Name: label, dtype: int64"
      ]
     },
     "execution_count": 10,
     "metadata": {},
     "output_type": "execute_result"
    }
   ],
   "source": [
    "train_df = pd.read_csv(\"splitted_data/train.csv\", names=[\"label\", \"text\"], delimiter=\"\\t\")\n",
    "train_df.label.value_counts()"
   ]
  },
  {
   "cell_type": "code",
   "execution_count": 11,
   "metadata": {},
   "outputs": [
    {
     "data": {
      "text/plain": [
       "__label__business         56\n",
       "__label__sport            51\n",
       "__label__entertainment    42\n",
       "__label__politics         37\n",
       "__label__tech             36\n",
       "Name: label, dtype: int64"
      ]
     },
     "execution_count": 11,
     "metadata": {},
     "output_type": "execute_result"
    }
   ],
   "source": [
    "val_df = pd.read_csv(\"splitted_data/dev.csv\", names=[\"label\", \"text\"], delimiter=\"\\t\")\n",
    "val_df.label.value_counts()"
   ]
  },
  {
   "cell_type": "code",
   "execution_count": 12,
   "metadata": {},
   "outputs": [
    {
     "data": {
      "text/plain": [
       "__label__sport            53\n",
       "__label__business         52\n",
       "__label__tech             40\n",
       "__label__politics         39\n",
       "__label__entertainment    39\n",
       "Name: label, dtype: int64"
      ]
     },
     "execution_count": 12,
     "metadata": {},
     "output_type": "execute_result"
    }
   ],
   "source": [
    "test_df = pd.read_csv(\"splitted_data/test.csv\", names=[\"label\", \"text\"], delimiter=\"\\t\")\n",
    "test_df.label.value_counts()"
   ]
  },
  {
   "cell_type": "markdown",
   "metadata": {},
   "source": [
    "## Training a Model"
   ]
  },
  {
   "cell_type": "markdown",
   "metadata": {},
   "source": [
    "> ## BERT"
   ]
  },
  {
   "cell_type": "code",
   "execution_count": 13,
   "metadata": {},
   "outputs": [],
   "source": [
    "from flair.embeddings import BertEmbeddings, FlairEmbeddings, DocumentRNNEmbeddings\n",
    "from flair.models import TextClassifier\n",
    "from flair.trainers import ModelTrainer\n",
    "from flair.training_utils import EvaluationMetric\n",
    "# from flair.visual.training_curves import Plotter"
   ]
  },
  {
   "cell_type": "code",
   "execution_count": 3,
   "metadata": {},
   "outputs": [],
   "source": [
    "MODEL_FOLDER_PATH = \"model/BERT\"\n",
    "if not os.path.exists(MODEL_FOLDER_PATH):\n",
    "    os.makedirs(MODEL_FOLDER_PATH)"
   ]
  },
  {
   "cell_type": "code",
   "execution_count": 16,
   "metadata": {},
   "outputs": [
    {
     "name": "stderr",
     "output_type": "stream",
     "text": [
      "100%|██████████| 231508/231508 [00:00<00:00, 944053.70B/s]\n",
      "100%|██████████| 407873900/407873900 [00:16<00:00, 25306887.00B/s]\n"
     ]
    },
    {
     "name": "stdout",
     "output_type": "stream",
     "text": [
      "2019-08-10 17:59:45,303 https://s3.eu-central-1.amazonaws.com/alan-nlp/resources/embeddings/lm-news-english-forward-1024-v0.2rc.pt not found in cache, downloading to /tmp/tmpuaavsyu3\n"
     ]
    },
    {
     "name": "stderr",
     "output_type": "stream",
     "text": [
      "100%|██████████| 19689779/19689779 [00:00<00:00, 36223695.77B/s]"
     ]
    },
    {
     "name": "stdout",
     "output_type": "stream",
     "text": [
      "2019-08-10 17:59:46,011 copying /tmp/tmpuaavsyu3 to cache at /tmp/.flair/embeddings/lm-news-english-forward-1024-v0.2rc.pt\n",
      "2019-08-10 17:59:46,044 removing temp file /tmp/tmpuaavsyu3\n"
     ]
    },
    {
     "name": "stderr",
     "output_type": "stream",
     "text": [
      "\n"
     ]
    },
    {
     "name": "stdout",
     "output_type": "stream",
     "text": [
      "2019-08-10 17:59:52,953 https://s3.eu-central-1.amazonaws.com/alan-nlp/resources/embeddings/lm-news-english-backward-1024-v0.2rc.pt not found in cache, downloading to /tmp/tmpl1tm8_a1\n"
     ]
    },
    {
     "name": "stderr",
     "output_type": "stream",
     "text": [
      "100%|██████████| 19689779/19689779 [00:00<00:00, 41204693.41B/s]"
     ]
    },
    {
     "name": "stdout",
     "output_type": "stream",
     "text": [
      "2019-08-10 17:59:53,585 copying /tmp/tmpl1tm8_a1 to cache at /tmp/.flair/embeddings/lm-news-english-backward-1024-v0.2rc.pt\n"
     ]
    },
    {
     "name": "stderr",
     "output_type": "stream",
     "text": [
      "\n"
     ]
    },
    {
     "name": "stdout",
     "output_type": "stream",
     "text": [
      "2019-08-10 17:59:53,620 removing temp file /tmp/tmpl1tm8_a1\n",
      "2019-08-10 17:59:58,717 {'politics', 'entertainment', 'business', 'sport', 'tech'}\n",
      "2019-08-10 18:00:03,545 ----------------------------------------------------------------------------------------------------\n",
      "2019-08-10 18:00:03,546 Evaluation method: MICRO_ACCURACY\n",
      "2019-08-10 18:00:03,902 ----------------------------------------------------------------------------------------------------\n",
      "2019-08-10 18:00:24,966 epoch 1 - iter 0/56 - loss 1.84763348\n",
      "2019-08-10 18:02:00,381 epoch 1 - iter 5/56 - loss 1.94778440\n",
      "2019-08-10 18:03:32,787 epoch 1 - iter 10/56 - loss 1.90704661\n",
      "2019-08-10 18:05:13,114 epoch 1 - iter 15/56 - loss 1.81130447\n",
      "2019-08-10 18:06:49,302 epoch 1 - iter 20/56 - loss 1.75702118\n",
      "2019-08-10 18:08:25,907 epoch 1 - iter 25/56 - loss 1.68021062\n",
      "2019-08-10 18:10:02,458 epoch 1 - iter 30/56 - loss 1.60633048\n",
      "2019-08-10 18:11:41,070 epoch 1 - iter 35/56 - loss 1.56771400\n",
      "2019-08-10 18:13:16,242 epoch 1 - iter 40/56 - loss 1.49945582\n",
      "2019-08-10 18:14:50,311 epoch 1 - iter 45/56 - loss 1.43309982\n",
      "2019-08-10 18:16:23,947 epoch 1 - iter 50/56 - loss 1.38887878\n",
      "2019-08-10 18:17:47,880 epoch 1 - iter 55/56 - loss 1.32486597\n",
      "2019-08-10 18:17:48,282 ----------------------------------------------------------------------------------------------------\n",
      "2019-08-10 18:17:48,283 EPOCH 1 done: loss 1.3249 - lr 0.1000 - bad epochs 0\n",
      "2019-08-10 18:20:00,847 DEV : loss 1.2109283208847046 - score 0.5045\n",
      "2019-08-10 18:22:16,027 TEST : loss 1.3252525329589844 - score 0.4978\n",
      "2019-08-10 18:22:16,886 ----------------------------------------------------------------------------------------------------\n",
      "2019-08-10 18:22:38,163 epoch 2 - iter 0/56 - loss 0.76604617\n",
      "2019-08-10 18:24:11,901 epoch 2 - iter 5/56 - loss 0.94009633\n",
      "2019-08-10 18:25:52,366 epoch 2 - iter 10/56 - loss 0.86285506\n",
      "2019-08-10 18:27:28,699 epoch 2 - iter 15/56 - loss 0.89094291\n",
      "2019-08-10 18:29:01,655 epoch 2 - iter 20/56 - loss 0.87511369\n",
      "2019-08-10 18:30:37,817 epoch 2 - iter 25/56 - loss 0.84011083\n",
      "2019-08-10 18:32:10,387 epoch 2 - iter 30/56 - loss 0.79540488\n",
      "2019-08-10 18:33:45,251 epoch 2 - iter 35/56 - loss 0.76398618\n",
      "2019-08-10 18:35:21,050 epoch 2 - iter 40/56 - loss 0.75521545\n",
      "2019-08-10 18:36:57,054 epoch 2 - iter 45/56 - loss 0.75152559\n",
      "2019-08-10 18:38:32,008 epoch 2 - iter 50/56 - loss 0.71778389\n",
      "2019-08-10 18:39:55,097 epoch 2 - iter 55/56 - loss 0.70748154\n",
      "2019-08-10 18:39:55,592 ----------------------------------------------------------------------------------------------------\n",
      "2019-08-10 18:39:55,593 EPOCH 2 done: loss 0.7075 - lr 0.1000 - bad epochs 0\n",
      "2019-08-10 18:42:07,561 DEV : loss 0.5625060200691223 - score 0.7703\n",
      "2019-08-10 18:44:21,337 TEST : loss 0.6733881831169128 - score 0.7534\n",
      "2019-08-10 18:44:22,241 ----------------------------------------------------------------------------------------------------\n",
      "2019-08-10 18:44:43,746 epoch 3 - iter 0/56 - loss 0.45035744\n",
      "2019-08-10 18:46:20,452 epoch 3 - iter 5/56 - loss 0.37398730\n",
      "2019-08-10 18:47:55,195 epoch 3 - iter 10/56 - loss 0.49152258\n",
      "2019-08-10 18:49:31,049 epoch 3 - iter 15/56 - loss 0.48797969\n",
      "2019-08-10 18:51:08,230 epoch 3 - iter 20/56 - loss 0.53178266\n",
      "2019-08-10 18:52:48,170 epoch 3 - iter 25/56 - loss 0.53789507\n",
      "2019-08-10 18:54:23,815 epoch 3 - iter 30/56 - loss 0.54841997\n",
      "2019-08-10 18:55:54,107 epoch 3 - iter 35/56 - loss 0.54587950\n",
      "2019-08-10 18:57:26,563 epoch 3 - iter 40/56 - loss 0.54015227\n",
      "2019-08-10 18:58:59,501 epoch 3 - iter 45/56 - loss 0.51885098\n",
      "2019-08-10 19:00:38,278 epoch 3 - iter 50/56 - loss 0.52090074\n",
      "2019-08-10 19:02:04,812 epoch 3 - iter 55/56 - loss 0.50924670\n",
      "2019-08-10 19:02:05,252 ----------------------------------------------------------------------------------------------------\n",
      "2019-08-10 19:02:05,254 EPOCH 3 done: loss 0.5092 - lr 0.1000 - bad epochs 0\n",
      "2019-08-10 19:04:17,383 DEV : loss 0.44126105308532715 - score 0.8243\n",
      "2019-08-10 19:06:32,080 TEST : loss 0.5477396249771118 - score 0.8117\n",
      "2019-08-10 19:06:33,000 ----------------------------------------------------------------------------------------------------\n",
      "2019-08-10 19:06:56,838 epoch 4 - iter 0/56 - loss 0.46130049\n",
      "2019-08-10 19:08:33,668 epoch 4 - iter 5/56 - loss 0.57598809\n",
      "2019-08-10 19:10:10,174 epoch 4 - iter 10/56 - loss 0.44020801\n",
      "2019-08-10 19:11:47,473 epoch 4 - iter 15/56 - loss 0.39109030\n",
      "2019-08-10 19:13:19,624 epoch 4 - iter 20/56 - loss 0.34916804\n",
      "2019-08-10 19:14:57,085 epoch 4 - iter 25/56 - loss 0.37817103\n",
      "2019-08-10 19:16:34,403 epoch 4 - iter 30/56 - loss 0.37523088\n",
      "2019-08-10 19:18:14,401 epoch 4 - iter 35/56 - loss 0.39814871\n",
      "2019-08-10 19:19:49,369 epoch 4 - iter 40/56 - loss 0.37990551\n",
      "2019-08-10 19:21:22,393 epoch 4 - iter 45/56 - loss 0.37336672\n",
      "2019-08-10 19:22:57,745 epoch 4 - iter 50/56 - loss 0.35529891\n",
      "2019-08-10 19:24:19,633 epoch 4 - iter 55/56 - loss 0.35690438\n",
      "2019-08-10 19:24:20,142 ----------------------------------------------------------------------------------------------------\n",
      "2019-08-10 19:24:20,144 EPOCH 4 done: loss 0.3569 - lr 0.1000 - bad epochs 0\n",
      "2019-08-10 19:26:32,027 DEV : loss 0.4301554262638092 - score 0.8604\n",
      "2019-08-10 19:28:45,551 TEST : loss 0.4638057053089142 - score 0.852\n",
      "2019-08-10 19:28:46,482 ----------------------------------------------------------------------------------------------------\n",
      "2019-08-10 19:29:07,597 epoch 5 - iter 0/56 - loss 0.37247601\n",
      "2019-08-10 19:30:44,661 epoch 5 - iter 5/56 - loss 0.25644288\n",
      "2019-08-10 19:32:22,672 epoch 5 - iter 10/56 - loss 0.23419053\n",
      "2019-08-10 19:33:58,632 epoch 5 - iter 15/56 - loss 0.20393006\n",
      "2019-08-10 19:35:32,585 epoch 5 - iter 20/56 - loss 0.19846113\n",
      "2019-08-10 19:37:05,683 epoch 5 - iter 25/56 - loss 0.19336895\n",
      "2019-08-10 19:38:40,203 epoch 5 - iter 30/56 - loss 0.20889698\n",
      "2019-08-10 19:40:14,790 epoch 5 - iter 35/56 - loss 0.24763577\n",
      "2019-08-10 19:41:51,946 epoch 5 - iter 40/56 - loss 0.26245451\n",
      "2019-08-10 19:43:28,611 epoch 5 - iter 45/56 - loss 0.26083320\n",
      "2019-08-10 19:45:04,750 epoch 5 - iter 50/56 - loss 0.24947500\n",
      "2019-08-10 19:46:28,767 epoch 5 - iter 55/56 - loss 0.24283087\n",
      "2019-08-10 19:46:29,209 ----------------------------------------------------------------------------------------------------\n",
      "2019-08-10 19:46:29,210 EPOCH 5 done: loss 0.2428 - lr 0.1000 - bad epochs 0\n",
      "2019-08-10 19:48:40,309 DEV : loss 0.44378340244293213 - score 0.8468\n",
      "2019-08-10 19:50:55,054 TEST : loss 0.5276920199394226 - score 0.8386\n",
      "2019-08-10 19:50:55,056 ----------------------------------------------------------------------------------------------------\n",
      "2019-08-10 19:51:16,097 epoch 6 - iter 0/56 - loss 0.24353582\n",
      "2019-08-10 19:52:55,404 epoch 6 - iter 5/56 - loss 0.20839413\n",
      "2019-08-10 19:54:31,185 epoch 6 - iter 10/56 - loss 0.15371560\n",
      "2019-08-10 19:56:05,617 epoch 6 - iter 15/56 - loss 0.16256419\n",
      "2019-08-10 19:57:40,385 epoch 6 - iter 20/56 - loss 0.15712764\n",
      "2019-08-10 19:59:18,150 epoch 6 - iter 25/56 - loss 0.18419172\n",
      "2019-08-10 20:00:55,908 epoch 6 - iter 30/56 - loss 0.16816510\n",
      "2019-08-10 20:02:33,006 epoch 6 - iter 35/56 - loss 0.18794469\n",
      "2019-08-10 20:04:07,327 epoch 6 - iter 40/56 - loss 0.19139682\n",
      "2019-08-10 20:05:42,766 epoch 6 - iter 45/56 - loss 0.20467905\n",
      "2019-08-10 20:07:13,602 epoch 6 - iter 50/56 - loss 0.20544515\n",
      "2019-08-10 20:08:35,614 epoch 6 - iter 55/56 - loss 0.20023303\n",
      "2019-08-10 20:08:36,050 ----------------------------------------------------------------------------------------------------\n",
      "2019-08-10 20:08:36,052 EPOCH 6 done: loss 0.2002 - lr 0.1000 - bad epochs 1\n",
      "2019-08-10 20:10:46,881 DEV : loss 0.5976152420043945 - score 0.8153\n",
      "2019-08-10 20:13:00,418 TEST : loss 0.608437180519104 - score 0.7982\n",
      "2019-08-10 20:13:00,419 ----------------------------------------------------------------------------------------------------\n",
      "2019-08-10 20:13:26,448 epoch 7 - iter 0/56 - loss 0.16591027\n",
      "2019-08-10 20:15:04,008 epoch 7 - iter 5/56 - loss 0.13302212\n",
      "2019-08-10 20:16:39,473 epoch 7 - iter 10/56 - loss 0.16013024\n",
      "2019-08-10 20:18:14,673 epoch 7 - iter 15/56 - loss 0.16104478\n",
      "2019-08-10 20:19:49,369 epoch 7 - iter 20/56 - loss 0.18379115\n",
      "2019-08-10 20:21:20,512 epoch 7 - iter 25/56 - loss 0.18024784\n",
      "2019-08-10 20:23:00,896 epoch 7 - iter 30/56 - loss 0.17238794\n",
      "2019-08-10 20:24:39,003 epoch 7 - iter 35/56 - loss 0.15658414\n",
      "2019-08-10 20:26:11,953 epoch 7 - iter 40/56 - loss 0.14630113\n",
      "2019-08-10 20:27:46,822 epoch 7 - iter 45/56 - loss 0.14831117\n",
      "2019-08-10 20:29:21,248 epoch 7 - iter 50/56 - loss 0.15077957\n",
      "2019-08-10 20:30:42,494 epoch 7 - iter 55/56 - loss 0.14520247\n",
      "2019-08-10 20:30:43,031 ----------------------------------------------------------------------------------------------------\n",
      "2019-08-10 20:30:43,032 EPOCH 7 done: loss 0.1452 - lr 0.1000 - bad epochs 2\n",
      "2019-08-10 20:32:56,047 DEV : loss 0.39611557126045227 - score 0.8829\n",
      "2019-08-10 20:35:09,249 TEST : loss 0.45749032497406006 - score 0.8789\n",
      "2019-08-10 20:35:10,216 ----------------------------------------------------------------------------------------------------\n",
      "2019-08-10 20:35:31,722 epoch 8 - iter 0/56 - loss 0.07843810\n",
      "2019-08-10 20:37:09,158 epoch 8 - iter 5/56 - loss 0.07635804\n",
      "2019-08-10 20:38:44,936 epoch 8 - iter 10/56 - loss 0.07571193\n",
      "2019-08-10 20:40:20,113 epoch 8 - iter 15/56 - loss 0.07371665\n",
      "2019-08-10 20:41:52,760 epoch 8 - iter 20/56 - loss 0.10445066\n",
      "2019-08-10 20:43:32,262 epoch 8 - iter 25/56 - loss 0.09188872\n",
      "2019-08-10 20:45:07,609 epoch 8 - iter 30/56 - loss 0.09218299\n",
      "2019-08-10 20:46:44,375 epoch 8 - iter 35/56 - loss 0.09479187\n",
      "2019-08-10 20:48:18,352 epoch 8 - iter 40/56 - loss 0.09605772\n",
      "2019-08-10 20:49:55,449 epoch 8 - iter 45/56 - loss 0.09322113\n",
      "2019-08-10 20:51:30,032 epoch 8 - iter 50/56 - loss 0.11251969\n",
      "2019-08-10 20:52:52,677 epoch 8 - iter 55/56 - loss 0.13313921\n",
      "2019-08-10 20:52:53,150 ----------------------------------------------------------------------------------------------------\n",
      "2019-08-10 20:52:53,151 EPOCH 8 done: loss 0.1331 - lr 0.1000 - bad epochs 0\n",
      "2019-08-10 20:55:04,527 DEV : loss 0.32756853103637695 - score 0.9099\n",
      "2019-08-10 20:57:18,355 TEST : loss 0.4191189706325531 - score 0.8834\n",
      "2019-08-10 20:57:19,297 ----------------------------------------------------------------------------------------------------\n",
      "2019-08-10 20:57:39,152 epoch 9 - iter 0/56 - loss 0.08033285\n",
      "2019-08-10 20:59:15,183 epoch 9 - iter 5/56 - loss 0.04199749\n",
      "2019-08-10 21:00:50,458 epoch 9 - iter 10/56 - loss 0.04896528\n",
      "2019-08-10 21:02:23,607 epoch 9 - iter 15/56 - loss 0.05081253\n",
      "2019-08-10 21:04:00,216 epoch 9 - iter 20/56 - loss 0.06473603\n",
      "2019-08-10 21:05:35,887 epoch 9 - iter 25/56 - loss 0.09936234\n",
      "2019-08-10 21:07:10,333 epoch 9 - iter 30/56 - loss 0.10126949\n",
      "2019-08-10 21:08:46,545 epoch 9 - iter 35/56 - loss 0.09258407\n",
      "2019-08-10 21:10:22,340 epoch 9 - iter 40/56 - loss 0.08710359\n",
      "2019-08-10 21:11:54,917 epoch 9 - iter 45/56 - loss 0.08637214\n",
      "2019-08-10 21:13:33,178 epoch 9 - iter 50/56 - loss 0.08392582\n",
      "2019-08-10 21:14:53,722 epoch 9 - iter 55/56 - loss 0.09001563\n",
      "2019-08-10 21:14:54,267 ----------------------------------------------------------------------------------------------------\n",
      "2019-08-10 21:14:54,268 EPOCH 9 done: loss 0.0900 - lr 0.1000 - bad epochs 0\n",
      "2019-08-10 21:17:06,050 DEV : loss 0.3223573863506317 - score 0.9324\n",
      "2019-08-10 21:19:20,042 TEST : loss 0.3947315812110901 - score 0.9058\n",
      "2019-08-10 21:19:20,998 ----------------------------------------------------------------------------------------------------\n",
      "2019-08-10 21:19:40,836 epoch 10 - iter 0/56 - loss 0.04269640\n",
      "2019-08-10 21:21:20,037 epoch 10 - iter 5/56 - loss 0.02815900\n",
      "2019-08-10 21:22:55,118 epoch 10 - iter 10/56 - loss 0.04706055\n",
      "2019-08-10 21:24:28,643 epoch 10 - iter 15/56 - loss 0.05020227\n",
      "2019-08-10 21:26:03,222 epoch 10 - iter 20/56 - loss 0.04325508\n",
      "2019-08-10 21:27:38,379 epoch 10 - iter 25/56 - loss 0.04634049\n",
      "2019-08-10 21:29:14,334 epoch 10 - iter 30/56 - loss 0.06697367\n",
      "2019-08-10 21:30:45,409 epoch 10 - iter 35/56 - loss 0.06418310\n",
      "2019-08-10 21:32:19,933 epoch 10 - iter 40/56 - loss 0.06400613\n",
      "2019-08-10 21:33:54,294 epoch 10 - iter 45/56 - loss 0.06200428\n",
      "2019-08-10 21:35:31,746 epoch 10 - iter 50/56 - loss 0.06473499\n",
      "2019-08-10 21:36:57,721 epoch 10 - iter 55/56 - loss 0.06616032\n",
      "2019-08-10 21:36:58,375 ----------------------------------------------------------------------------------------------------\n",
      "2019-08-10 21:36:58,377 EPOCH 10 done: loss 0.0662 - lr 0.1000 - bad epochs 0\n",
      "2019-08-10 21:39:09,601 DEV : loss 0.44585636258125305 - score 0.8829\n",
      "2019-08-10 21:41:23,101 TEST : loss 0.5497968792915344 - score 0.8789\n",
      "2019-08-10 21:41:23,103 ----------------------------------------------------------------------------------------------------\n",
      "2019-08-10 21:41:44,465 epoch 11 - iter 0/56 - loss 0.02319373\n",
      "2019-08-10 21:43:18,179 epoch 11 - iter 5/56 - loss 0.04297336\n",
      "2019-08-10 21:44:56,851 epoch 11 - iter 10/56 - loss 0.12361262\n",
      "2019-08-10 21:46:34,799 epoch 11 - iter 15/56 - loss 0.09752424\n",
      "2019-08-10 21:48:12,266 epoch 11 - iter 20/56 - loss 0.08270448\n",
      "2019-08-10 21:49:43,965 epoch 11 - iter 25/56 - loss 0.06957633\n",
      "2019-08-10 21:51:19,439 epoch 11 - iter 30/56 - loss 0.06322113\n",
      "2019-08-10 21:52:50,321 epoch 11 - iter 35/56 - loss 0.06495820\n",
      "2019-08-10 21:54:24,675 epoch 11 - iter 40/56 - loss 0.07281760\n",
      "2019-08-10 21:56:05,677 epoch 11 - iter 45/56 - loss 0.07457807\n",
      "2019-08-10 21:57:40,128 epoch 11 - iter 50/56 - loss 0.06880317\n",
      "2019-08-10 21:59:04,183 epoch 11 - iter 55/56 - loss 0.06524177\n",
      "2019-08-10 21:59:04,726 ----------------------------------------------------------------------------------------------------\n",
      "2019-08-10 21:59:04,728 EPOCH 11 done: loss 0.0652 - lr 0.1000 - bad epochs 1\n",
      "2019-08-10 22:01:16,286 DEV : loss 0.3492192029953003 - score 0.9189\n",
      "2019-08-10 22:03:30,699 TEST : loss 0.4503405690193176 - score 0.8879\n",
      "2019-08-10 22:03:30,701 ----------------------------------------------------------------------------------------------------\n",
      "2019-08-10 22:03:52,043 epoch 12 - iter 0/56 - loss 0.02454084\n",
      "2019-08-10 22:05:25,681 epoch 12 - iter 5/56 - loss 0.01970607\n",
      "2019-08-10 22:07:02,605 epoch 12 - iter 10/56 - loss 0.01635393\n",
      "2019-08-10 22:08:43,999 epoch 12 - iter 15/56 - loss 0.01480195\n",
      "2019-08-10 22:10:20,453 epoch 12 - iter 20/56 - loss 0.01510824\n",
      "2019-08-10 22:11:54,327 epoch 12 - iter 25/56 - loss 0.01848324\n",
      "2019-08-10 22:13:31,115 epoch 12 - iter 30/56 - loss 0.01799334\n",
      "2019-08-10 22:15:08,538 epoch 12 - iter 35/56 - loss 0.02115098\n",
      "2019-08-10 22:16:40,774 epoch 12 - iter 40/56 - loss 0.02011939\n",
      "2019-08-10 22:18:15,353 epoch 12 - iter 45/56 - loss 0.02273125\n",
      "2019-08-10 22:19:52,554 epoch 12 - iter 50/56 - loss 0.02256996\n",
      "2019-08-10 22:21:16,731 epoch 12 - iter 55/56 - loss 0.02160378\n",
      "2019-08-10 22:21:17,162 ----------------------------------------------------------------------------------------------------\n",
      "2019-08-10 22:21:17,164 EPOCH 12 done: loss 0.0216 - lr 0.1000 - bad epochs 2\n",
      "2019-08-10 22:23:28,949 DEV : loss 0.3546693027019501 - score 0.9189\n",
      "2019-08-10 22:25:43,054 TEST : loss 0.47994664311408997 - score 0.8924\n",
      "2019-08-10 22:25:43,056 ----------------------------------------------------------------------------------------------------\n",
      "2019-08-10 22:26:04,994 epoch 13 - iter 0/56 - loss 0.00735709\n",
      "2019-08-10 22:27:38,158 epoch 13 - iter 5/56 - loss 0.01321956\n",
      "2019-08-10 22:29:14,087 epoch 13 - iter 10/56 - loss 0.01209432\n",
      "2019-08-10 22:30:53,981 epoch 13 - iter 15/56 - loss 0.01710405\n",
      "2019-08-10 22:32:28,732 epoch 13 - iter 20/56 - loss 0.01911474\n",
      "2019-08-10 22:34:05,500 epoch 13 - iter 25/56 - loss 0.01710799\n",
      "2019-08-10 22:35:43,797 epoch 13 - iter 30/56 - loss 0.01716499\n",
      "2019-08-10 22:37:21,853 epoch 13 - iter 35/56 - loss 0.01749536\n",
      "2019-08-10 22:38:53,918 epoch 13 - iter 40/56 - loss 0.01722315\n",
      "2019-08-10 22:40:31,012 epoch 13 - iter 45/56 - loss 0.01663476\n",
      "2019-08-10 22:42:07,742 epoch 13 - iter 50/56 - loss 0.01853907\n",
      "2019-08-10 22:43:30,234 epoch 13 - iter 55/56 - loss 0.01755868\n",
      "2019-08-10 22:43:30,797 ----------------------------------------------------------------------------------------------------\n",
      "2019-08-10 22:43:30,799 EPOCH 13 done: loss 0.0176 - lr 0.1000 - bad epochs 3\n",
      "2019-08-10 22:45:42,546 DEV : loss 0.37824875116348267 - score 0.9099\n",
      "2019-08-10 22:47:56,869 TEST : loss 0.532534658908844 - score 0.8879\n",
      "Epoch    12: reducing learning rate of group 0 to 5.0000e-02.\n",
      "2019-08-10 22:47:56,871 ----------------------------------------------------------------------------------------------------\n",
      "2019-08-10 22:48:18,007 epoch 14 - iter 0/56 - loss 0.02003250\n",
      "2019-08-10 22:49:55,436 epoch 14 - iter 5/56 - loss 0.00894747\n",
      "2019-08-10 22:51:30,794 epoch 14 - iter 10/56 - loss 0.00907878\n",
      "2019-08-10 22:53:08,108 epoch 14 - iter 15/56 - loss 0.00754201\n",
      "2019-08-10 22:54:43,249 epoch 14 - iter 20/56 - loss 0.00654753\n",
      "2019-08-10 22:56:15,364 epoch 14 - iter 25/56 - loss 0.00800398\n",
      "2019-08-10 22:57:48,775 epoch 14 - iter 30/56 - loss 0.00900122\n",
      "2019-08-10 22:59:28,424 epoch 14 - iter 35/56 - loss 0.00911827\n",
      "2019-08-10 23:01:09,440 epoch 14 - iter 40/56 - loss 0.01010847\n",
      "2019-08-10 23:02:45,185 epoch 14 - iter 45/56 - loss 0.00993709\n",
      "2019-08-10 23:04:18,849 epoch 14 - iter 50/56 - loss 0.00958567\n",
      "2019-08-10 23:05:43,241 epoch 14 - iter 55/56 - loss 0.00964249\n",
      "2019-08-10 23:05:43,762 ----------------------------------------------------------------------------------------------------\n",
      "2019-08-10 23:05:43,763 EPOCH 14 done: loss 0.0096 - lr 0.0500 - bad epochs 0\n",
      "2019-08-10 23:07:55,856 DEV : loss 0.372336745262146 - score 0.9234\n",
      "2019-08-10 23:10:10,920 TEST : loss 0.4878064692020416 - score 0.8879\n",
      "2019-08-10 23:10:10,922 ----------------------------------------------------------------------------------------------------\n",
      "2019-08-10 23:10:35,075 epoch 15 - iter 0/56 - loss 0.00317255\n",
      "2019-08-10 23:12:10,786 epoch 15 - iter 5/56 - loss 0.00968097\n",
      "2019-08-10 23:13:44,640 epoch 15 - iter 10/56 - loss 0.00870421\n",
      "2019-08-10 23:15:19,502 epoch 15 - iter 15/56 - loss 0.00778214\n",
      "2019-08-10 23:16:53,467 epoch 15 - iter 20/56 - loss 0.00995684\n",
      "2019-08-10 23:18:32,584 epoch 15 - iter 25/56 - loss 0.00953089\n",
      "2019-08-10 23:20:11,072 epoch 15 - iter 30/56 - loss 0.00957261\n",
      "2019-08-10 23:21:44,576 epoch 15 - iter 35/56 - loss 0.00911729\n",
      "2019-08-10 23:23:18,037 epoch 15 - iter 40/56 - loss 0.00906595\n",
      "2019-08-10 23:24:58,621 epoch 15 - iter 45/56 - loss 0.00884136\n",
      "2019-08-10 23:26:32,075 epoch 15 - iter 50/56 - loss 0.00906691\n",
      "2019-08-10 23:27:56,682 epoch 15 - iter 55/56 - loss 0.00861331\n",
      "2019-08-10 23:27:57,228 ----------------------------------------------------------------------------------------------------\n",
      "2019-08-10 23:27:57,229 EPOCH 15 done: loss 0.0086 - lr 0.0500 - bad epochs 1\n",
      "2019-08-10 23:30:08,717 DEV : loss 0.37602943181991577 - score 0.9234\n",
      "2019-08-10 23:32:23,536 TEST : loss 0.5232060551643372 - score 0.8924\n",
      "2019-08-10 23:32:24,414 ----------------------------------------------------------------------------------------------------\n",
      "2019-08-10 23:32:24,415 Testing using best model ...\n",
      "2019-08-10 23:32:24,421 loading file model/best-model.pt\n",
      "2019-08-10 23:34:41,090 0.9058\t0.9058\t0.9058\n",
      "2019-08-10 23:34:41,092 \n",
      "MICRO_AVG: acc 0.8279 - f1-score 0.9058\n",
      "MACRO_AVG: acc 0.8308 - f1-score 0.9068000000000002\n",
      "business   tp: 47 - fp: 10 - fn: 5 - tn: 161 - precision: 0.8246 - recall: 0.9038 - accuracy: 0.7581 - f1-score: 0.8624\n",
      "entertainment tp: 35 - fp: 3 - fn: 4 - tn: 181 - precision: 0.9211 - recall: 0.8974 - accuracy: 0.8333 - f1-score: 0.9091\n",
      "politics   tp: 36 - fp: 3 - fn: 3 - tn: 181 - precision: 0.9231 - recall: 0.9231 - accuracy: 0.8571 - f1-score: 0.9231\n",
      "sport      tp: 48 - fp: 0 - fn: 5 - tn: 170 - precision: 1.0000 - recall: 0.9057 - accuracy: 0.9057 - f1-score: 0.9505\n",
      "tech       tp: 36 - fp: 5 - fn: 4 - tn: 178 - precision: 0.8780 - recall: 0.9000 - accuracy: 0.8000 - f1-score: 0.8889\n",
      "2019-08-10 23:34:41,093 ----------------------------------------------------------------------------------------------------\n"
     ]
    },
    {
     "data": {
      "text/plain": [
       "{'test_score': 0.9058,\n",
       " 'dev_score_history': [0.5045,\n",
       "  0.7703,\n",
       "  0.8243,\n",
       "  0.8604,\n",
       "  0.8468,\n",
       "  0.8153,\n",
       "  0.8829,\n",
       "  0.9099,\n",
       "  0.9324,\n",
       "  0.8829,\n",
       "  0.9189,\n",
       "  0.9189,\n",
       "  0.9099,\n",
       "  0.9234,\n",
       "  0.9234],\n",
       " 'train_loss_history': [1.3248659723571368,\n",
       "  0.7074815447309187,\n",
       "  0.5092466953875763,\n",
       "  0.35690437563295874,\n",
       "  0.2428308693425996,\n",
       "  0.20023302627461298,\n",
       "  0.14520247029473207,\n",
       "  0.13313921328101838,\n",
       "  0.09001562717769827,\n",
       "  0.0661603201213958,\n",
       "  0.0652417667276625,\n",
       "  0.02160377590917051,\n",
       "  0.017558677970165654,\n",
       "  0.009642486460506916,\n",
       "  0.008613308837604043],\n",
       " 'dev_loss_history': [tensor(1.2109, device='cuda:0'),\n",
       "  tensor(0.5625, device='cuda:0'),\n",
       "  tensor(0.4413, device='cuda:0'),\n",
       "  tensor(0.4302, device='cuda:0'),\n",
       "  tensor(0.4438, device='cuda:0'),\n",
       "  tensor(0.5976, device='cuda:0'),\n",
       "  tensor(0.3961, device='cuda:0'),\n",
       "  tensor(0.3276, device='cuda:0'),\n",
       "  tensor(0.3224, device='cuda:0'),\n",
       "  tensor(0.4459, device='cuda:0'),\n",
       "  tensor(0.3492, device='cuda:0'),\n",
       "  tensor(0.3547, device='cuda:0'),\n",
       "  tensor(0.3782, device='cuda:0'),\n",
       "  tensor(0.3723, device='cuda:0'),\n",
       "  tensor(0.3760, device='cuda:0')]}"
      ]
     },
     "execution_count": 16,
     "metadata": {},
     "output_type": "execute_result"
    }
   ],
   "source": [
    "params_train = {\n",
    "    \"flair_emb_forward\": 'news-forward-fast',\n",
    "    \"flair_emb_backward\": 'news-backward-fast',\n",
    "    \"hidden_size\": 256,\n",
    "    \"reproject_words_dimension\": 128,\n",
    "    \"max_epoch\": 20,\n",
    "    \"evaluation_metric\": EvaluationMetric.MICRO_ACCURACY\n",
    "}\n",
    "\n",
    "word_embeddings = [BertEmbeddings(), FlairEmbeddings(params_train[\"flair_emb_forward\"]),\n",
    "                   FlairEmbeddings(params_train[\"flair_emb_backward\"])]\n",
    "\n",
    "document_embeddings = DocumentRNNEmbeddings(word_embeddings, hidden_size=params_train[\"hidden_size\"],\n",
    "                                            reproject_words=True, reproject_words_dimension=params_train[\"reproject_words_dimension\"])\n",
    "\n",
    "classifier = TextClassifier(document_embeddings, label_dictionary=corpus.make_label_dictionary(), multi_label=False)\n",
    "\n",
    "trainer = ModelTrainer(classifier, corpus)"
   ]
  },
  {
   "cell_type": "code",
   "execution_count": null,
   "metadata": {},
   "outputs": [],
   "source": [
    "learning_rate_tsv = trainer.find_learning_rate(MODEL_FOLDER_PATH, 'learning_rate.tsv')\n",
    "\n",
    "plotter = Plotter()\n",
    "plotter.plot_learning_rate(learning_rate_tsv)"
   ]
  },
  {
   "cell_type": "markdown",
   "metadata": {},
   "source": [
    "<img src=\"model/BERT/learning_rate.png\" height=1000, width=1000>"
   ]
  },
  {
   "cell_type": "code",
   "execution_count": null,
   "metadata": {},
   "outputs": [],
   "source": [
    "trainer.train(MODEL_FOLDER_PATH, max_epochs=params_train[\"max_epoch\"], evaluation_metric=params_train[\"evaluation_metric\"])"
   ]
  },
  {
   "cell_type": "markdown",
   "metadata": {},
   "source": [
    "## Plot training curves"
   ]
  },
  {
   "cell_type": "code",
   "execution_count": null,
   "metadata": {},
   "outputs": [],
   "source": [
    "from flair.visual.training_curves import Plotter\n",
    "\n",
    "plotter = Plotter()\n",
    "plotter.plot_training_curves(os.path.join(MODEL_FOLDER_PATH, 'loss.tsv'))\n",
    "plotter.plot_weights(os.path.join(MODEL_FOLDER_PATH, 'weights.txt'))"
   ]
  },
  {
   "cell_type": "code",
   "execution_count": null,
   "metadata": {},
   "outputs": [],
   "source": []
  }
 ],
 "metadata": {
  "kernelspec": {
   "display_name": "Python 3",
   "language": "python",
   "name": "python3"
  },
  "language_info": {
   "codemirror_mode": {
    "name": "ipython",
    "version": 3
   },
   "file_extension": ".py",
   "mimetype": "text/x-python",
   "name": "python",
   "nbconvert_exporter": "python",
   "pygments_lexer": "ipython3",
   "version": "3.6.8"
  }
 },
 "nbformat": 4,
 "nbformat_minor": 2
}
