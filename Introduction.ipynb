{
 "cells": [
  {
   "cell_type": "markdown",
   "metadata": {},
   "source": [
    "Flair is PyTorch based python library, with intended for use in NLP based tasks like Named Entity Recognition (NER), Part of Speech Tagging (POS), Sense Disambiguation, and Text Classification"
   ]
  },
  {
   "cell_type": "markdown",
   "metadata": {},
   "source": [
    "Flair is based on Bidirectional Character Language Model which is pre-trined on extremely large unlabeled text corpora. Given LM, every word extracting contextual embedding by extracting 1st and last character cell state. Retrieve word embedding is then passed into BiLSTM-CRF(VANILLA) sequence labeler."
   ]
  },
  {
   "cell_type": "markdown",
   "metadata": {},
   "source": [
    "![title](flair_architecture.png)"
   ]
  },
  {
   "cell_type": "markdown",
   "metadata": {},
   "source": [
    "## Pros:\n",
    "> Nice in use<br>\n",
    "> Comes with quasi pre-trained models<br>\n",
    "> Includes flair embeddings, as also other powerful embeddings based on transformer architectures like ELMo or BERT<br>\n",
    "> Achieves SOTA results in NER and POS<br>\n",
    "> Flair embeddings deals with polysemy problem<br>\n",
    "> Character based model is less susceptible to misspellings, works well with prefixes and suffixes, and can handle OOV words\n",
    "\n",
    "## Cons:\n",
    ">"
   ]
  },
  {
   "cell_type": "code",
   "execution_count": null,
   "metadata": {},
   "outputs": [],
   "source": []
  }
 ],
 "metadata": {
  "kernelspec": {
   "display_name": "Python 3",
   "language": "python",
   "name": "python3"
  },
  "language_info": {
   "codemirror_mode": {
    "name": "ipython",
    "version": 3
   },
   "file_extension": ".py",
   "mimetype": "text/x-python",
   "name": "python",
   "nbconvert_exporter": "python",
   "pygments_lexer": "ipython3",
   "version": "3.6.8"
  }
 },
 "nbformat": 4,
 "nbformat_minor": 4
}
