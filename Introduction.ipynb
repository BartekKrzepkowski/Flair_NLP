{
 "cells": [
  {
   "cell_type": "markdown",
   "metadata": {},
   "source": [
    "Flair is PyTorch based python library, with intended for use in NLP based tasks like Named Entity Recognition (NER), Part of Speech Tagging (POS), Sense Disambiguation, and Text Classification"
   ]
  },
  {
   "cell_type": "markdown",
   "metadata": {},
   "source": [
    "Flair is based on Bidirectional Character Language Model which is pre-trined on extremely large unlabeled text corpora. Given LM, every word extracting contextual embedding by extracting 1st and last character cell state. Retrieve word embedding is then passed into BiLSTM-CRF(VANILLA) sequence labeler."
   ]
  },
  {
   "cell_type": "markdown",
   "metadata": {},
   "source": [
    "![title](flair_architecture.png)"
   ]
  },
  {
   "cell_type": "markdown",
   "metadata": {},
   "source": [
    "## Pros:\n",
    "> Nice in use<br>\n",
    "> Comes with quasi pre-trained models<br>\n",
    "> Includes flair embeddings, as also other powerful embeddings based on transformer architectures like ELMo or BERT<br>\n",
    "> Achieves SOTA results in NER and POS<br>\n",
    "> Flair embeddings deals with polysemy problem<br>\n",
    "> Character based model is less susceptible to misspellings, works well with prefixes and suffixes, and can handle OOV words<br>\n",
    "> Flair’s interface allows us to combine different word embeddings<br>\n",
    "> Flair supports a number of languages\n",
    "\n",
    "## Cons:\n",
    ">"
   ]
  },
  {
   "cell_type": "markdown",
   "metadata": {},
   "source": [
    "## Contextual String Embeddings fo Sequence Labeling\n",
    "\n",
    "Contextual String Embeddings leverage the internal states of a trained character language model to produce a novel type of word embedding. It uses certain internal principles of a trained character model, such that words can have different meaning in different sentences.\n",
    "\n",
    "> The words are trained as characters (without any notion of words). Aka, it works similar to character embeddings<br>\n",
    "> The embeddings are contextualised by their surrounding text. This implies that the same word can have different embeddings depending on the context.\n",
    "\n"
   ]
  },
  {
   "cell_type": "code",
   "execution_count": null,
   "metadata": {},
   "outputs": [],
   "source": []
  }
 ],
 "metadata": {
  "kernelspec": {
   "display_name": "Python 3",
   "language": "python",
   "name": "python3"
  },
  "language_info": {
   "codemirror_mode": {
    "name": "ipython",
    "version": 3
   },
   "file_extension": ".py",
   "mimetype": "text/x-python",
   "name": "python",
   "nbconvert_exporter": "python",
   "pygments_lexer": "ipython3",
   "version": "3.6.8"
  }
 },
 "nbformat": 4,
 "nbformat_minor": 4
}
